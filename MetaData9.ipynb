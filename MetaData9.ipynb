{
 "cells": [
  {
   "cell_type": "code",
   "execution_count": 2,
   "id": "7a707b93-6c26-4d00-9aa9-87ca9bf2a447",
   "metadata": {},
   "outputs": [
    {
     "data": {
      "text/plain": [
       "{'title': 'StringCheese Token Metadata - NFT #1',\n",
       " 'type': 'object',\n",
       " 'properties': {'name': {'type': 'string',\n",
       "   'description': 'StringCheese NFT #1'},\n",
       "  'decimals': {'type': 'integer', 'description': 18},\n",
       "  'description': {'type': 'string',\n",
       "   'description': 'An NFT from the StringCheese collection, representing a unique ape with various traits.'},\n",
       "  'image': {'type': 'string',\n",
       "   'description': 'https://drive.google.com/file/d/1hqWCk9CN2v_pEkCRue2kCW7IcMEjrI43/view?usp=sharing'},\n",
       "  'properties': {'type': 'object',\n",
       "   'description': 'Additional properties associated with the StringCheese NFT #1.',\n",
       "   'properties': {'cartoon': {'type': 'boolean',\n",
       "     'description': 'The character has a cartoonish style.'},\n",
       "    'brown': {'type': 'boolean',\n",
       "     'description': 'The character has brown coloring.'},\n",
       "    'studious': {'type': 'boolean',\n",
       "     'description': 'The character is shown as studious or intellectual.'},\n",
       "    'extraterrestrial': {'type': 'boolean',\n",
       "     'description': 'The character has extraterrestrial features.'},\n",
       "    'hat': {'type': 'boolean',\n",
       "     'description': 'The character is wearing a hat.'}}},\n",
       "  'localization': {'type': 'object',\n",
       "   'required': ['uri', 'default', 'locales'],\n",
       "   'properties': {'uri': {'type': 'string',\n",
       "     'description': 'https://drive.google.com/file/d/1hqWCk9CN2v_pEkCRue2kCW7IcMEjrI43/view?usp=sharing'},\n",
       "    'default': {'type': 'string', 'description': 'en-US'},\n",
       "    'locales': {'type': 'array', 'description': ['en-US', 'es-ES']}}}}}"
      ]
     },
     "execution_count": 2,
     "metadata": {},
     "output_type": "execute_result"
    }
   ],
   "source": [
    "{\n",
    "    \"title\": \"StringCheese Token Metadata - NFT #9\",\n",
    "    \"type\": \"object\",\n",
    "    \"properties\": {\n",
    "        \"name\": {\n",
    "            \"type\": \"string\",\n",
    "            \"description\": \"StringCheese NFT #9\"\n",
    "        },\n",
    "        \"decimals\": {\n",
    "            \"type\": \"integer\",\n",
    "            \"description\": 18\n",
    "        },\n",
    "        \"description\": {\n",
    "            \"type\": \"string\",\n",
    "            \"description\": \"An NFT from the StringCheese collection, representing a unique ape with various traits.\"\n",
    "        },\n",
    "        \"image\": {\n",
    "            \"type\": \"string\",\n",
    "            \"description\": \"https://drive.google.com/file/d/1cw1e_APUwPYj66Lv6wkUEf5wh3tjrwU5/view?usp=sharing\"\n",
    "        },\n",
    "        \"properties\": {\n",
    "            \"type\": \"object\",\n",
    "            \"description\": \"Additional properties associated with the StringCheese NFT #9.\",\n",
    "            \"properties\": {\n",
    "                \"cartoon\": {\n",
    "                    \"type\": \"boolean\",\n",
    "                    \"description\": \"The character has a cartoonish style.\"\n",
    "                },\n",
    "                \"grey\": {\n",
    "                    \"type\": \"boolean\",\n",
    "                    \"description\": \"The character has grey coloring.\"\n",
    "                },\n",
    "                \"photo\": {\n",
    "                    \"type\": \"boolean\",\n",
    "                    \"description\": \"The character is shown holding a photo.\"\n",
    "                },\n",
    "                \"brickwall\": {\n",
    "                    \"type\": \"boolean\",\n",
    "                    \"description\": \"The character is standing in front of a brickwall.\"\n",
    "                }\n",
    "            }\n",
    "        },\n",
    "        \"localization\": {\n",
    "            \"type\": \"object\",\n",
    "            \"required\": [\"uri\", \"default\", \"locales\"],\n",
    "            \"properties\": {\n",
    "                \"uri\": {\n",
    "                    \"type\": \"string\",\n",
    "                    \"description\": \"https://drive.google.com/file/d/1cw1e_APUwPYj66Lv6wkUEf5wh3tjrwU5/view?usp=sharing\"\n",
    "                },\n",
    "                \"default\": {\n",
    "                    \"type\": \"string\",\n",
    "                    \"description\": \"en-US\"\n",
    "                },\n",
    "                \"locales\": {\n",
    "                    \"type\": \"array\",\n",
    "                    \"description\": [\"en-US\", \"es-ES\"]\n",
    "                }\n",
    "            }\n",
    "        }\n",
    "    }\n",
    "}\n",
    "\n"
   ]
  },
  {
   "cell_type": "code",
   "execution_count": null,
   "id": "76d90055-4799-493f-bf15-5cb0134150ca",
   "metadata": {},
   "outputs": [],
   "source": [
    "ipfs://QmZqKGQEQFuc1wERQrbUVoxVggsHFVLhW8UrCPnFmoDTYE"
   ]
  }
 ],
 "metadata": {
  "kernelspec": {
   "display_name": "Python 3 (ipykernel)",
   "language": "python",
   "name": "python3"
  },
  "language_info": {
   "codemirror_mode": {
    "name": "ipython",
    "version": 3
   },
   "file_extension": ".py",
   "mimetype": "text/x-python",
   "name": "python",
   "nbconvert_exporter": "python",
   "pygments_lexer": "ipython3",
   "version": "3.11.2"
  }
 },
 "nbformat": 4,
 "nbformat_minor": 5
}
